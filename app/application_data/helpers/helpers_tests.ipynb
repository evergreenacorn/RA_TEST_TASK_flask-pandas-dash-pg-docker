{
 "cells": [
  {
   "cell_type": "code",
   "execution_count": null,
   "metadata": {},
   "outputs": [],
   "source": [
    "from sqlalchemy import create_engine, Table, Column, Integer, Float, DateTime, func, String, MetaData, ForeignKey\n",
    "engine = create_engine('sqlite:///:memory:', echo=True)\n",
    "metadata_obj = MetaData()\n",
    "\n",
    "events = Table('events', metadata_obj,\n",
    "    Column('id', Integer, primary_key=True),\n",
    "    Column(\"name\", String, nullable=False)\n",
    "    ,Column(\"appsflyer_id\", String, nullable=False, unique=True)\n",
    "    ,Column(\"revenue\", Float)\n",
    "    ,Column(\"revenue_usd\", Float)\n",
    "    ,Column(\"install_time\", DateTime, default=func.current_timestamp())\n",
    "    ,Column(\"event_time\", DateTime, default=func.current_timestamp())\n",
    ")\n",
    "\n",
    "\n",
    "event_types = Table('event_types', metadata_obj,\n",
    "    Column('id', Integer, primary_key=True),\n",
    "    Column(\"name\", String, nullable=False)\n",
    "    ,Column('event_id', None, ForeignKey('events.id')),\n",
    ")\n",
    "\n",
    "companies = Table('companies', metadata_obj,\n",
    "    Column('id', Integer, primary_key=True),\n",
    "    Column(\"name\", String, nullable=False)\n",
    "    ,Column('event_id', None, ForeignKey('events.id')),\n",
    ")\n",
    "\n",
    "media_sources = Table('media_sources', metadata_obj,\n",
    "    Column('id', Integer, primary_key=True),\n",
    "    Column(\"name\", String, nullable=False)\n",
    "    ,Column('event_id', None, ForeignKey('events.id')),\n",
    ")\n",
    "\n",
    "platforms = Table('platforms', metadata_obj,\n",
    "    Column('id', Integer, primary_key=True),\n",
    "    Column(\"name\", String, nullable=False)\n",
    "    ,Column('event_id', None, ForeignKey('events.id')),\n",
    ")\n",
    "metadata_obj.create_all(engine)"
   ]
  },
  {
   "cell_type": "code",
   "execution_count": null,
   "metadata": {},
   "outputs": [],
   "source": [
    "from csv_reader import CsvImporter\n",
    "from dataframe_importer import DataframeImporter\n",
    "import os\n",
    "\n",
    "\n",
    "TEST_FILE = \"D:\\\\Python\\\\TEST_TASK\\\\app\\\\task_data\\\\events.csv\"\n",
    "csv = CsvImporter(TEST_FILE)\n",
    "models_map = {\n",
    "    \"media_source\": media_sources,\n",
    "    \"campaign\": companies,\n",
    "    \"platform\": platforms,\n",
    "    \"event_name\": event_types,\n",
    "}\n",
    "main_model = events\n",
    "df = DataframeImporter(csv.df, models_map, main_model)\n",
    "# df.get_col_unique_values(col_index=3)\n",
    "# df.dataframe.columns\n",
    "df.get_col_unique_values(col_name='platform').tolist()"
   ]
  },
  {
   "cell_type": "code",
   "execution_count": null,
   "metadata": {},
   "outputs": [],
   "source": [
    "# Загружаем в бд несколько строк\n",
    "# dir(events)\n",
    "df.secondary_tables_data"
   ]
  }
 ],
 "metadata": {
  "kernelspec": {
   "display_name": "Python 3.10.6 ('TEST_TASK-Nkhq2nXz')",
   "language": "python",
   "name": "python3"
  },
  "language_info": {
   "codemirror_mode": {
    "name": "ipython",
    "version": 3
   },
   "file_extension": ".py",
   "mimetype": "text/x-python",
   "name": "python",
   "nbconvert_exporter": "python",
   "pygments_lexer": "ipython3",
   "version": "3.10.6"
  },
  "orig_nbformat": 4,
  "vscode": {
   "interpreter": {
    "hash": "b6445b9c979edf69fbc79afa993a8ecb5767b57d0a6581cb84d5781c912fa558"
   }
  }
 },
 "nbformat": 4,
 "nbformat_minor": 2
}
